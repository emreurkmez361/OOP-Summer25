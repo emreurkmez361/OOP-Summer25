class Animal:
    def give_sound(self, sound):
        print(sound)
class Dog(Animal):
    def bark(self):
        self.give_sound('woof')
my_dog = Dog()
my_dog.bark()
woof
class Person:
    def __init__(self, first_name, last_name):
        self.first_name = first_name
        self.last_name = last_name
class Student:
    def __init__(self, first_name, last_name, subject):
        self.first_name = first_name
        self.last_name = last_name
        self.subject = subject

    def display_info(self):
        print(f"Name: {self.first_name} {self.last_name}, Subject: {self.subject}")

student1 = Student('Emre', 'Urkmez', 'geometry')
student1.display_info()
Name: Emre Ürkmez, Subject: geometry
class Student(Person):
    def __init__(self, first_name, last_name, subject):
        super().__init__(first_name, last_name)
        self.subject = subject

    def display_info(self):
        print(f"Name: {self.first_name} {self.last_name}, Subject: {self.subject}")

student1 = Student('Emre', 'Urkmez', 'geometry')
student1.display_info()
